{
 "cells": [
  {
   "cell_type": "code",
   "execution_count": null,
   "metadata": {},
   "outputs": [],
   "source": [
    "%matplotlib inline\n",
    "%precision 16\n",
    "\n",
    "import numpy as np\n",
    "import matplotlib.pyplot as plt\n",
    "import pandas as pd\n",
    "import os"
   ]
  },
  {
   "cell_type": "code",
   "execution_count": null,
   "metadata": {},
   "outputs": [],
   "source": [
    "filepath = \"output_\"\n",
    "for i in range(0, (itr+1)):\n",
    "    data_array = np.zeros((height, width))\n",
    "    data_merge = []\n",
    "    for j in range(0, rows):\n",
    "        data_merge_cols = []\n",
    "            \n",
    "        for k in range(0, cols):\n",
    "            id = str(j*cols + k)\n",
    "            filename = filepath + id + \".txt\"\n",
    "            data = pd.read_csv(filename,sep=\"\\t\",header=None)\n",
    "            data = data.dropna(axis=1, how='all')\n",
    "            #data = data.dropna(axis=0, how='all')\n",
    "            sub_height =  int(data.shape[0]/(itr+1))\n",
    "            data_chunk = data.iloc[i*sub_height:(i+1)*sub_height]\n",
    "            data_array = data_chunk.values\n",
    "            if(k == 0):\n",
    "                data_merge_cols = data_array\n",
    "            else:\n",
    "                data_merge_cols = np.concatenate((data_merge_cols, data_array), axis = 1)\n",
    "\n",
    "        if(j == 0):\n",
    "            data_merge = data_merge_cols\n",
    "        else:\n",
    "            data_merge = np.concatenate((data_merge, data_merge_cols), axis = 0)\n",
    "    #print(data_merge)\n",
    "    np.savetxt('Iteration_'+str(i)+'.txt', data_merge, fmt=\"%d\")"
   ]
  }
 ],
 "metadata": {
  "kernelspec": {
   "display_name": "Python 3.7.3 64-bit",
   "language": "python",
   "name": "python37364bitfb1c8399c780452b86294b47625243a2"
  },
  "language_info": {
   "codemirror_mode": {
    "name": "ipython",
    "version": 3
   },
   "file_extension": ".py",
   "mimetype": "text/x-python",
   "name": "python",
   "nbconvert_exporter": "python",
   "pygments_lexer": "ipython3",
   "version": "3.7.3"
  }
 },
 "nbformat": 4,
 "nbformat_minor": 2
}
